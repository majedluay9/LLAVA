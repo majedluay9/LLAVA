{
 "cells": [
  {
   "cell_type": "code",
   "execution_count": 2,
   "id": "initial_id",
   "metadata": {
    "collapsed": true,
    "ExecuteTime": {
     "end_time": "2024-07-28T11:20:09.425503Z",
     "start_time": "2024-07-28T11:20:09.410035600Z"
    }
   },
   "outputs": [],
   "source": [
    "import ollama\n",
    "\n",
    "def generate(model, image, prompt):\n",
    "    stream = ollama.generate(\n",
    "        model=model,\n",
    "        prompt=prompt,\n",
    "        images=[image],\n",
    "        stream=True\n",
    "    )\n",
    "    response = \"\"\n",
    "    for chunk in stream:\n",
    "        response += chunk['response']\n",
    "        print(chunk['response'], end='', flush=True)\n",
    "    print(\"\")\n",
    "    return response\n"
   ]
  },
  {
   "cell_type": "code",
   "execution_count": 8,
   "outputs": [
    {
     "data": {
      "text/plain": "{'status': 'success'}"
     },
     "execution_count": 8,
     "metadata": {},
     "output_type": "execute_result"
    }
   ],
   "source": [
    "ollama.pull('llava:7b-v1.5-q4_0')\n",
    "ollama.pull('llava:v1.6')"
   ],
   "metadata": {
    "collapsed": false,
    "ExecuteTime": {
     "end_time": "2024-07-28T11:34:40.269457100Z",
     "start_time": "2024-07-28T11:34:38.515776600Z"
    }
   },
   "id": "c4e370a72525e80d"
  },
  {
   "cell_type": "code",
   "execution_count": 7,
   "outputs": [
    {
     "name": "stdout",
     "output_type": "stream",
     "text": [
      "Model: llava:7b-v1.5-q4_0\n",
      " This man is a Saudi Arabian politician, likely the leader of his country, as he is dressed in traditional Middle Eastern clothing, including a turban.\n",
      "Model: llava:v1.6\n",
      " This is Mohammed bin Salman, the Crown Prince of Saudi Arabia. \n"
     ]
    }
   ],
   "source": [
    "image = r\"C:\\Users\\uqmluay\\Downloads\\Untitled.jpg\"\n",
    "prompt = \"Who is this man?\"\n",
    "for model in ['llava:7b-v1.5-q4_0', 'llava:v1.6']:\n",
    "  print(f\"Model: {model}\")\n",
    "  generate(model, image, prompt)"
   ],
   "metadata": {
    "collapsed": false,
    "ExecuteTime": {
     "end_time": "2024-07-28T11:27:26.339967900Z",
     "start_time": "2024-07-28T11:25:45.068211300Z"
    }
   },
   "id": "2c7fb768e7ef0779"
  },
  {
   "cell_type": "code",
   "execution_count": 6,
   "outputs": [
    {
     "ename": "SyntaxError",
     "evalue": "invalid syntax (3501567721.py, line 1)",
     "output_type": "error",
     "traceback": [
      "\u001B[1;36m  Cell \u001B[1;32mIn[6], line 1\u001B[1;36m\u001B[0m\n\u001B[1;33m    ollama pull llava:v1.6\u001B[0m\n\u001B[1;37m           ^\u001B[0m\n\u001B[1;31mSyntaxError\u001B[0m\u001B[1;31m:\u001B[0m invalid syntax\n"
     ]
    }
   ],
   "source": [],
   "metadata": {
    "collapsed": false,
    "ExecuteTime": {
     "end_time": "2024-07-28T11:23:31.115059400Z",
     "start_time": "2024-07-28T11:23:31.108059900Z"
    }
   },
   "id": "1a4f69b38cf037d3"
  },
  {
   "cell_type": "code",
   "execution_count": null,
   "outputs": [],
   "source": [],
   "metadata": {
    "collapsed": false
   },
   "id": "ea3911da7d2a18f5"
  }
 ],
 "metadata": {
  "kernelspec": {
   "display_name": "Python 3",
   "language": "python",
   "name": "python3"
  },
  "language_info": {
   "codemirror_mode": {
    "name": "ipython",
    "version": 2
   },
   "file_extension": ".py",
   "mimetype": "text/x-python",
   "name": "python",
   "nbconvert_exporter": "python",
   "pygments_lexer": "ipython2",
   "version": "2.7.6"
  }
 },
 "nbformat": 4,
 "nbformat_minor": 5
}
